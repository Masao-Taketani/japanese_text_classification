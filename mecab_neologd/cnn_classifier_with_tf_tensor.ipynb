{
 "cells": [
  {
   "cell_type": "code",
   "execution_count": 1,
   "metadata": {},
   "outputs": [],
   "source": [
    "BATCH_SIZE = 32\n",
    "MAX_LEN = 512\n",
    "EMBEDDING_DIM = 300\n",
    "NUM_CLASSES = 9"
   ]
  },
  {
   "cell_type": "code",
   "execution_count": 2,
   "metadata": {},
   "outputs": [],
   "source": [
    "import tensorflow as tf\n",
    "\n",
    "def parse(example):\n",
    "    features = tf.parse_single_example(\n",
    "        example,\n",
    "        features={\n",
    "            'X': tf.FixedLenFeature([MAX_LEN, EMBEDDING_DIM], dtype=tf.float32),\n",
    "            'Y': tf.FixedLenFeature([NUM_CLASSES], dtype=tf.float32)\n",
    "        })\n",
    "    \n",
    "    X = features['X']\n",
    "    Y = features['Y']\n",
    "    \n",
    "    return X, Y"
   ]
  },
  {
   "cell_type": "code",
   "execution_count": 3,
   "metadata": {},
   "outputs": [],
   "source": [
    "def iterator(tfrecord_path, data_len):\n",
    "    dataset = tf.data.TFRecordDataset([tfrecord_path]).map(parse)\n",
    "    dataset = dataset.repeat(-1).shuffle(data_len).batch(BATCH_SIZE)\n",
    "    iterator = dataset.make_one_shot_iterator()\n",
    "\n",
    "    X, Y = iterator.get_next()\n",
    "    X = tf.reshape(X, [-1, MAX_LEN, EMBEDDING_DIM])\n",
    "    \n",
    "    return X, Y"
   ]
  },
  {
   "cell_type": "code",
   "execution_count": 4,
   "metadata": {},
   "outputs": [],
   "source": [
    "x_train, y_train = iterator('train.tfrecord', 5893)\n",
    "x_test, y_test = iterator('test.tfrecord', 1474)"
   ]
  },
  {
   "cell_type": "code",
   "execution_count": 5,
   "metadata": {},
   "outputs": [],
   "source": [
    "filters = 256\n",
    "kernel_size = 3\n",
    "hidden_dims = 256\n",
    "epochs = 10"
   ]
  },
  {
   "cell_type": "code",
   "execution_count": 6,
   "metadata": {},
   "outputs": [
    {
     "name": "stderr",
     "output_type": "stream",
     "text": [
      "Using TensorFlow backend.\n"
     ]
    }
   ],
   "source": [
    "from keras.engine.network import Network\n",
    "\n",
    "def common_network(layer_input):\n",
    "    #layer_input = Input(shape=(MAX_LEN, EMBEDDING_DIM))\n",
    "    x = Conv1D(filters,\n",
    "                    kernel_size,\n",
    "                    padding='valid',\n",
    "                    activation='relu',\n",
    "                    strides=1,\n",
    "                    )(layer_input)\n",
    "    x = GlobalMaxPooling1D()(x)\n",
    "    x = Dense(50, activation='relu')(x)\n",
    "    x = Dropout(0.5)(x)\n",
    "    layer_output = Dense(9, activation='softmax')(x)\n",
    "    \n",
    "    return layer_output"
   ]
  },
  {
   "cell_type": "code",
   "execution_count": 7,
   "metadata": {},
   "outputs": [
    {
     "name": "stdout",
     "output_type": "stream",
     "text": [
      "WARNING:tensorflow:From /usr/local/lib/python3.5/dist-packages/tensorflow/python/util/deprecation.py:497: calling conv1d (from tensorflow.python.ops.nn_ops) with data_format=NHWC is deprecated and will be removed in a future version.\n",
      "Instructions for updating:\n",
      "`NHWC` for data_format is deprecated, use `NWC` instead\n",
      "_________________________________________________________________\n",
      "Layer (type)                 Output Shape              Param #   \n",
      "=================================================================\n",
      "input_1 (InputLayer)         (None, 512, 300)          0         \n",
      "_________________________________________________________________\n",
      "conv1d_1 (Conv1D)            (None, 510, 256)          230656    \n",
      "_________________________________________________________________\n",
      "global_max_pooling1d_1 (Glob (None, 256)               0         \n",
      "_________________________________________________________________\n",
      "dense_1 (Dense)              (None, 50)                12850     \n",
      "_________________________________________________________________\n",
      "dropout_1 (Dropout)          (None, 50)                0         \n",
      "_________________________________________________________________\n",
      "dense_2 (Dense)              (None, 9)                 459       \n",
      "=================================================================\n",
      "Total params: 243,965\n",
      "Trainable params: 243,965\n",
      "Non-trainable params: 0\n",
      "_________________________________________________________________\n"
     ]
    }
   ],
   "source": [
    "from keras.models import Model\n",
    "from keras.layers import Input, Dense, Dropout, Conv1D, GlobalMaxPooling1D\n",
    "from keras.optimizers import Adam\n",
    "\n",
    "\n",
    "#train network\n",
    "train_layer_input = Input(tensor=x_train)\n",
    "train_layer_output= common_network(train_layer_input)\n",
    "train_model = Model(inputs=train_layer_input, outputs=train_layer_output)\n",
    "train_model.summary()"
   ]
  },
  {
   "cell_type": "code",
   "execution_count": 8,
   "metadata": {},
   "outputs": [
    {
     "name": "stdout",
     "output_type": "stream",
     "text": [
      "_________________________________________________________________\n",
      "Layer (type)                 Output Shape              Param #   \n",
      "=================================================================\n",
      "input_2 (InputLayer)         (None, 512, 300)          0         \n",
      "_________________________________________________________________\n",
      "conv1d_2 (Conv1D)            (None, 510, 256)          230656    \n",
      "_________________________________________________________________\n",
      "global_max_pooling1d_2 (Glob (None, 256)               0         \n",
      "_________________________________________________________________\n",
      "dense_3 (Dense)              (None, 50)                12850     \n",
      "_________________________________________________________________\n",
      "dropout_2 (Dropout)          (None, 50)                0         \n",
      "_________________________________________________________________\n",
      "dense_4 (Dense)              (None, 9)                 459       \n",
      "=================================================================\n",
      "Total params: 243,965\n",
      "Trainable params: 243,965\n",
      "Non-trainable params: 0\n",
      "_________________________________________________________________\n"
     ]
    }
   ],
   "source": [
    "#test network\n",
    "test_layer_input = Input(tensor=x_test)\n",
    "test_layer_output = common_network(test_layer_input)\n",
    "test_model = Model(inputs=test_layer_input, outputs=test_layer_output)\n",
    "test_model.summary()"
   ]
  },
  {
   "cell_type": "code",
   "execution_count": 9,
   "metadata": {},
   "outputs": [],
   "source": [
    "#referred from the document \"https://keras.io/examples/mnist_tfrecord/\"\n",
    "from keras.callbacks import Callback\n",
    "\n",
    "class EvaluateInputTensor(Callback):\n",
    "    def __init__(self, model, steps, metrics_prefix='val', verbose=1):\n",
    "        super(EvaluateInputTensor, self).__init__()\n",
    "        self.val_model = model\n",
    "        self.num_steps = steps\n",
    "        self.verbose = verbose\n",
    "        self.metrics_prefix = metrics_prefix\n",
    "        \n",
    "    def on_epoch_end(self, epoch, logs={}):\n",
    "        self.val_model.set_weights(self.model.get_weights())\n",
    "        results = self.val_model.evaluate(None,\n",
    "                                          None,\n",
    "                                          steps=int(self.num_steps),\n",
    "                                         verbose=self.verbose)\n",
    "        metrics_str = \" - \"\n",
    "        count = 0\n",
    "        for result, name in zip(results, self.val_model.metrics_names):\n",
    "            metric_name = self.metrics_prefix + '_' + name\n",
    "            logs[metric_name] = result\n",
    "            count += 1\n",
    "            if self.verbose > 0 and count == 1:\n",
    "                metrics_str += metric_name + ': ' + str(round(result, 4)) + \" - \"\n",
    "            elif self.verbose > 0 and count == 2:\n",
    "                metrics_str += metric_name + ': ' + str(round(result, 4))\n",
    "                \n",
    "        if self.verbose > 0:\n",
    "            print(metrics_str)"
   ]
  },
  {
   "cell_type": "code",
   "execution_count": 10,
   "metadata": {},
   "outputs": [],
   "source": [
    "train_model.compile(\n",
    "    loss=\"categorical_crossentropy\",\n",
    "    optimizer=Adam(),\n",
    "    metrics=[\"accuracy\"],\n",
    "    target_tensors=[y_train]\n",
    ")\n",
    "\n",
    "test_model.compile(\n",
    "    loss=\"categorical_crossentropy\",\n",
    "    optimizer=Adam(),\n",
    "    metrics=[\"accuracy\"],\n",
    "    target_tensors=[y_test]\n",
    ")"
   ]
  },
  {
   "cell_type": "code",
   "execution_count": 11,
   "metadata": {
    "scrolled": true
   },
   "outputs": [
    {
     "name": "stdout",
     "output_type": "stream",
     "text": [
      "Epoch 1/10\n",
      "184/184 [==============================] - 26s 143ms/step - loss: 1.5841 - acc: 0.4096\n",
      "46/46 [==============================] - 6s 121ms/step\n",
      " - val_loss: 0.8013 - val_acc: 0.8111\n",
      "Epoch 2/10\n",
      "184/184 [==============================] - 13s 68ms/step - loss: 0.8353 - acc: 0.7023\n",
      "46/46 [==============================] - 3s 67ms/step\n",
      " - val_loss: 0.4005 - val_acc: 0.8818\n",
      "Epoch 3/10\n",
      "184/184 [==============================] - 12s 67ms/step - loss: 0.5298 - acc: 0.8132\n",
      "46/46 [==============================] - 3s 68ms/step\n",
      " - val_loss: 0.2774 - val_acc: 0.9212\n",
      "Epoch 4/10\n",
      "184/184 [==============================] - 12s 67ms/step - loss: 0.3734 - acc: 0.8701\n",
      "46/46 [==============================] - 3s 71ms/step\n",
      " - val_loss: 0.2315 - val_acc: 0.9253\n",
      "Epoch 5/10\n",
      "184/184 [==============================] - 13s 69ms/step - loss: 0.2984 - acc: 0.8978\n",
      "46/46 [==============================] - 3s 66ms/step\n",
      " - val_loss: 0.1994 - val_acc: 0.9409\n",
      "Epoch 6/10\n",
      "184/184 [==============================] - 13s 69ms/step - loss: 0.2278 - acc: 0.9219\n",
      "46/46 [==============================] - 3s 67ms/step\n",
      " - val_loss: 0.1874 - val_acc: 0.9361\n",
      "Epoch 7/10\n",
      "184/184 [==============================] - 13s 68ms/step - loss: 0.1846 - acc: 0.9331\n",
      "46/46 [==============================] - 3s 66ms/step\n",
      " - val_loss: 0.1918 - val_acc: 0.9477\n",
      "Epoch 8/10\n",
      "184/184 [==============================] - 13s 69ms/step - loss: 0.1463 - acc: 0.9475\n",
      "46/46 [==============================] - 3s 67ms/step\n",
      " - val_loss: 0.1397 - val_acc: 0.9531\n",
      "Epoch 9/10\n",
      "184/184 [==============================] - 13s 68ms/step - loss: 0.1405 - acc: 0.9519TA: 0s - loss: 0.1406\n",
      "46/46 [==============================] - 3s 65ms/step\n",
      " - val_loss: 0.2047 - val_acc: 0.9375\n",
      "Epoch 10/10\n",
      "184/184 [==============================] - 12s 68ms/step - loss: 0.1183 - acc: 0.9562 4s - los\n",
      "46/46 [==============================] - 3s 65ms/step\n",
      " - val_loss: 0.1786 - val_acc: 0.9518\n",
      "CPU times: user 2min 48s, sys: 20.3 s, total: 3min 8s\n",
      "Wall time: 2min 53s\n"
     ]
    }
   ],
   "source": [
    "%%time\n",
    "\n",
    "hist = train_model.fit(\n",
    "        epochs=epochs,\n",
    "        verbose=1,\n",
    "        steps_per_epoch=5893//BATCH_SIZE,\n",
    "        callbacks=[EvaluateInputTensor(test_model, steps=1474//BATCH_SIZE)]\n",
    "       )"
   ]
  },
  {
   "cell_type": "code",
   "execution_count": 12,
   "metadata": {},
   "outputs": [
    {
     "data": {
      "image/png": "[encoded data removed]",
      "text/plain": [
       "<Figure size 432x288 with 1 Axes>"
      ]
     },
     "metadata": {
      "needs_background": "light"
     },
     "output_type": "display_data"
    }
   ],
   "source": [
    "import matplotlib.pyplot as plt\n",
    "%matplotlib inline\n",
    "\n",
    "plt.plot(hist.history['acc'])\n",
    "plt.plot(hist.history['val_acc'])\n",
    "plt.title('CNN Classifier Acc')\n",
    "plt.legend(['train', 'test'], loc='lower right')\n",
    "plt.show()"
   ]
  },
  {
   "cell_type": "code",
   "execution_count": 13,
   "metadata": {},
   "outputs": [
    {
     "data": {
      "image/png": "[encoded data removed]",
      "text/plain": [
       "<Figure size 432x288 with 1 Axes>"
      ]
     },
     "metadata": {
      "needs_background": "light"
     },
     "output_type": "display_data"
    }
   ],
   "source": [
    "plt.plot(hist.history['loss'])\n",
    "plt.plot(hist.history['val_loss'])\n",
    "plt.title('CNN Classifier Loss')\n",
    "plt.legend(['train', 'loss'], loc='upper right')\n",
    "plt.show()"
   ]
  },
  {
   "cell_type": "code",
   "execution_count": null,
   "metadata": {},
   "outputs": [],
   "source": []
  }
 ],
 "metadata": {
  "kernelspec": {
   "display_name": "Python 3",
   "language": "python",
   "name": "python3"
  },
  "language_info": {
   "codemirror_mode": {
    "name": "ipython",
    "version": 3
   },
   "file_extension": ".py",
   "mimetype": "text/x-python",
   "name": "python",
   "nbconvert_exporter": "python",
   "pygments_lexer": "ipython3",
   "version": "3.5.2"
  }
 },
 "nbformat": 4,
 "nbformat_minor": 2
}
