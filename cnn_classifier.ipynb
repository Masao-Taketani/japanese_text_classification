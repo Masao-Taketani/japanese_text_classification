{
 "cells": [
  {
   "cell_type": "code",
   "execution_count": 3,
   "metadata": {},
   "outputs": [
    {
     "data": {
      "text/plain": [
       "[('日本国内', 0.6301000118255615),\n",
       " ('アメリカ', 0.571485698223114),\n",
       " ('韓国', 0.5515788793563843),\n",
       " ('日本の歴史', 0.5300577878952026),\n",
       " ('日本国', 0.5054277181625366),\n",
       " ('日本の経済史', 0.5011717081069946),\n",
       " ('日本の魚', 0.4976142942905426),\n",
       " ('米国', 0.4971674680709839),\n",
       " ('中国', 0.49715349078178406),\n",
       " ('アメリカ合衆国', 0.49622151255607605)]"
      ]
     },
     "execution_count": 3,
     "metadata": {},
     "output_type": "execute_result"
    }
   ],
   "source": [
    "import gensim\n",
    "\n",
    "model = gensim.models.KeyedVectors.load_word2vec_format('model.vec', binary=False)\n",
    "model.most_similar(positive=['日本'])"
   ]
  },
  {
   "cell_type": "code",
   "execution_count": 49,
   "metadata": {},
   "outputs": [],
   "source": [
    "import glob\n",
    "import os\n",
    "from random import shuffle\n",
    "import random\n",
    "\n",
    "def pre_process_data(filepath):\n",
    "    dataset = []\n",
    "    dirs = []\n",
    "    \n",
    "    for dir in os.listdir(filepath):\n",
    "        if os.path.isdir(filepath + dir):\n",
    "            dirs.append(filepath + dir)\n",
    "            \n",
    "    for i, dir_path in enumerate(dirs):\n",
    "        dir_name = dir_path.split('/')[-1]\n",
    "        label_id = i\n",
    "        print('label_id: {}, dir_name: {}'.format(label_id, dir_name))\n",
    "        \n",
    "        for filename in glob.glob(os.path.join(filepath, dir_name, dir_name + \"*.txt\")):\n",
    "            with open(filename, 'r' ,encoding=\"utf-8\") as f:\n",
    "                #datasets hold sets of tuples such as (label, input text)\n",
    "                dataset.append((label_id, f.read()))\n",
    "                \n",
    "    random.seed(1234)            \n",
    "    shuffle(dataset)\n",
    "    \n",
    "    return dataset"
   ]
  },
  {
   "cell_type": "code",
   "execution_count": 55,
   "metadata": {},
   "outputs": [
    {
     "data": {
      "text/plain": [
       "(1,\n",
       " 'http://news.livedoor.com/article/detail/6607699/\\n2012-05-30T09:00:00+0900\\n斬新なアート表現と生命力！フィリピンの「今」が見られる「The Hope & The Dream in Filipino - Section III」\\nフィリピン共和国は、太平洋に浮かぶルソン島、ミンダナオ島やセブ島といった約7000の島からなる群島国家ながら国土は日本の約80％におよび、人口は9400万人が暮らしている。\\n\\n民族構成はマレー人が中心だが、スペインや米国の植民地支配の影響を強く受けたために、東南アジアでは唯一のキリスト教の信者が圧倒的に多い国でもある。\\n\\n日本にとっても歴史的な繋がりが深い割に、よく知られていないフィリピン共和国の「今」をとらえた写真展\\u3000アジアの写真家たち2012 フィリピン「The Hope & The Dream in Filipino - Section III」が、東京・銀座にあるリコーフォトギャラリーRING CUBEにおいて、本日、2012年5月30日より開催した。\\n\\n\\n今回の写真展は、日本写真協会主催「東京写真月間2012」の一環として、アジアの写真家として、フィリピン共和国の写真家の作品が展示されている。\\n\\n■斬新なアート感覚を写真の世界へ\\n今回のRING CUBEでの展示は、「The Dream ＆ The Hope of Filipino−Section I」から「Section IV」と題して12名の写真家による「フィリピン展」の１つで、都内4か所のギャラリーで開催される。\\n\\n写真展では、都市開発の裏側で貧困をものともせず前向きに生活する人々の様子や宗教行事への熱狂ぶりが紹介される一方、斬新なアート感覚を写真の世界へ大胆に取り入れた表現など、フィリピン写真界と写真作家の今を紹介する。\\n\\n\\n \\n \\n\\n\\nリコーフォトギャラリーRING CUBEの「The Hope & The Dream in Filipino - Section III」では、ジェロイ・マリガヤ・コンセプション氏、ワウィ・ナバローザ氏、フランキー・カラハン氏、3名の作品が展示される。\\n\\n \\n \\n\\n\\n■東京写真月間について\\n「東京写真月間」(The Month of Photography, Tokyo)は、写真文化の普及と発展を図るために公益社団法人日本写真協会が写真業界に呼びかけて催されている写真イベント。\\n\\n主催は東京写真月間実行委員会(公益社団法人日本写真協会と東京都写真美術館)が行い、後援に外務省、文化庁、東京都、協賛に写真関連企業などが参加し、1996年から毎年この時期に行なっている。\\n\\n催事は6月1日の「写真の日」を中心とした5〜6月にかけて、東京都写真美術館を軸に東京都内の写真ギャラリー、フォトサロンで催される写真展やイベントなどで、プロ、アマチュアの枠を超えて開催されている。\\n\\n\\n■写真家のプロフィール\\nジェロイ・マリガヤ・コンセプション（Geloy Maligaya Concepcion）氏\\nSantoTomas大学ファインアートに通う19歳、オンライン調査のサイトNewsbreakでフリーランスとして仕事を行った経験があり、フィリピンにおいて毎週全国放送で放映しているニューヨークのフェスティバルで賞を受賞したドキュメンタリーのストーリーを紹介する番組でも撮影を行っている。彼がメンバーでもあるアーティストのチームと共に、毎年行われ、今年は11月に台湾で開催されるグラフィティの大会Asian Wall Lordsにフィリピン代表として参加することになっている。また、つい先日、今年のアンコールフォトワークショップへのフリーランスのドキュメンタリー写真家として参加が決まった。\\n\\n \\n \\n\\nワウィ・ナバローザ（Wawi Navarroza）氏\\n1979年\\u3000マニラ生まれ\\n2002年\\u3000フィリピンのDe La Salle University 卒業\\n2009年\\u3000NewYork International Center of  Photography 春季コース終了\\n2012年\\u3000スペイン、マドリッドのIstituto Europeo di Design、Master Europeo de Fotografia del Autor 奨学生\\n作品は、フィリピンの国立博物館、マニラのメトロポリタン美術館、モンゴル国立近代美術館ギャラリー、ハンガラム美術館、韓国現代美術のフリース博物館、オランダなどの機関に収蔵されている。現在スペイン\\u3000マドリッド在住\\n\\n \\n \\n\\nフランキー・カラハン（Frankie Callaghan）氏\\n1980年\\u3000イギリス生まれ\\n英国人の父とフィリピン人の母から生まれ、初期の人生の大半をフィリピンの山岳地帯北部のバギオで送った。米国ウォートン・スクールビジネスを2002年卒業後、写真家の道を目指す。現在マニラに拠点を置き、都市の構造物と夜の空の空間に焦点を当てている。彼の作品は、フィリピン、香港、韓国、シンガポール、米国で展示され、年末にシンガポールで開催される6度目の個展を準備している。\\n\\n \\n \\n\\n写真展概要\\n名\\u3000    称：アジアの写真家たち2012\\u3000-フィリピン-\\n\\u3000\\u3000\\u3000\\u3000   \\u3000「The Hope & The Dream in Filipino\\u3000-Section III」\\n主\\u3000    催：「東京写真月間2012」実行委員会−公益社団法人\\u3000日本写真協会、東京都写真美術館\\n後\\u3000    援：文化庁、フィリピン共和国大使館、東京都（申請中）、外務省、環境省\\n協\\u3000    賛：フィリピン環境省、株式会社リコー\\n期\\u3000    間：2012年5月30日（水）〜6月10日（日）\\u3000※休館日を除く\\n場\\u3000\\u3000  所：リコーフォトギャラリーRING CUBE ギャラリーゾーン\\n所  在 地：東京都中央区銀座5-7-2 三愛ドリームセンター8階・9階（受付9階）\\n電\\u3000\\u3000  話：03-3289-1521\\n開館時間：11：00〜20：00 (最終日17：00まで)\\u3000\\n休  館 日：火曜日\\n入\\u3000場 料：無料\\n\\n■リコーフォトギャラリー「RING CUBE」\\n\\n■RING CUBEの記事をもっと見る\\n・3姉妹の成長を瞬間的に捉えた妖艶で可憐な世界観【新-写真空間】\\n・どうやって撮ったの？コンデジで驚きの不思議な写真「Naked Flower（裸の花）」【新-写真空間】\\n・2ヶ月で全国を走り抜けた写真！若さを行動で表現して魂を繋ぐ【GRバトン 写真家リレー】\\n・写真魂のバトンリレー！GRデジタルをバトンに若き写真家たちの駅伝写真展がスタート\\n・現場の一瞬を切り取り番組の裏側を伝える！日本テレビ「ZERO写真展」を開催\\n')"
      ]
     },
     "execution_count": 55,
     "metadata": {},
     "output_type": "execute_result"
    }
   ],
   "source": [
    "path = \"livedoor_data/text/\"\n",
    "\n",
    "dataset = pre_process_data(path)\n",
    "dataset[1234]"
   ]
  },
  {
   "cell_type": "code",
   "execution_count": 51,
   "metadata": {},
   "outputs": [
    {
     "data": {
      "text/plain": [
       "7367"
      ]
     },
     "execution_count": 51,
     "metadata": {},
     "output_type": "execute_result"
    }
   ],
   "source": [
    "len(dataset)"
   ]
  },
  {
   "cell_type": "code",
   "execution_count": 57,
   "metadata": {},
   "outputs": [
    {
     "data": {
      "text/plain": [
       "(300,)"
      ]
     },
     "execution_count": 57,
     "metadata": {},
     "output_type": "execute_result"
    }
   ],
   "source": [
    "model[\"日本\"].shape"
   ]
  },
  {
   "cell_type": "code",
   "execution_count": 106,
   "metadata": {},
   "outputs": [],
   "source": [
    "import MeCab\n",
    "\n",
    "def tokenize_and_vectorize(dataset):\n",
    "    vectorized_data = []\n",
    "    tokenizer = MeCab.Tagger(\"-Owakati -d /var/lib/mecab/dic/mecab-ipadic-neologd\")\n",
    "    for sample in dataset:\n",
    "        tokens_list = tokenizer.parse(sample[1]).split()\n",
    "        each_sample_input_vecs = []\n",
    "        for token in tokens_list:\n",
    "            try:\n",
    "                each_sample_input_vecs.append(model[token])\n",
    "            except KeyError:\n",
    "                pass\n",
    "            \n",
    "        vectorized_data.append(each_sample_input_vecs)\n",
    "        \n",
    "    return vectorized_data"
   ]
  },
  {
   "cell_type": "code",
   "execution_count": 293,
   "metadata": {},
   "outputs": [],
   "source": [
    "def collect_labels(dataset):\n",
    "    labels = []\n",
    "    for sample in dataset:\n",
    "        labels.append(sample[0])\n",
    "    \n",
    "    return labels"
   ]
  },
  {
   "cell_type": "code",
   "execution_count": 294,
   "metadata": {},
   "outputs": [
    {
     "ename": "TypeError",
     "evalue": "'Sequential' object is not subscriptable",
     "output_type": "error",
     "traceback": [
      "\u001b[0;31m---------------------------------------------------------------------------\u001b[0m",
      "\u001b[0;31mTypeError\u001b[0m                                 Traceback (most recent call last)",
      "\u001b[0;32m<ipython-input-294-d953b5d713f0>\u001b[0m in \u001b[0;36m<module>\u001b[0;34m\u001b[0m\n\u001b[0;32m----> 1\u001b[0;31m \u001b[0mvectorized_inputs\u001b[0m \u001b[0;34m=\u001b[0m \u001b[0mtokenize_and_vectorize\u001b[0m\u001b[0;34m(\u001b[0m\u001b[0mdataset\u001b[0m\u001b[0;34m)\u001b[0m\u001b[0;34m\u001b[0m\u001b[0m\n\u001b[0m\u001b[1;32m      2\u001b[0m \u001b[0mlabels\u001b[0m \u001b[0;34m=\u001b[0m \u001b[0mcollect_labels\u001b[0m\u001b[0;34m(\u001b[0m\u001b[0mdataset\u001b[0m\u001b[0;34m)\u001b[0m\u001b[0;34m\u001b[0m\u001b[0m\n",
      "\u001b[0;32m<ipython-input-106-2e76b4ce93f9>\u001b[0m in \u001b[0;36mtokenize_and_vectorize\u001b[0;34m(dataset)\u001b[0m\n\u001b[1;32m      9\u001b[0m         \u001b[0;32mfor\u001b[0m \u001b[0mtoken\u001b[0m \u001b[0;32min\u001b[0m \u001b[0mtokens_list\u001b[0m\u001b[0;34m:\u001b[0m\u001b[0;34m\u001b[0m\u001b[0m\n\u001b[1;32m     10\u001b[0m             \u001b[0;32mtry\u001b[0m\u001b[0;34m:\u001b[0m\u001b[0;34m\u001b[0m\u001b[0m\n\u001b[0;32m---> 11\u001b[0;31m                 \u001b[0meach_sample_input_vecs\u001b[0m\u001b[0;34m.\u001b[0m\u001b[0mappend\u001b[0m\u001b[0;34m(\u001b[0m\u001b[0mmodel\u001b[0m\u001b[0;34m[\u001b[0m\u001b[0mtoken\u001b[0m\u001b[0;34m]\u001b[0m\u001b[0;34m)\u001b[0m\u001b[0;34m\u001b[0m\u001b[0m\n\u001b[0m\u001b[1;32m     12\u001b[0m             \u001b[0;32mexcept\u001b[0m \u001b[0mKeyError\u001b[0m\u001b[0;34m:\u001b[0m\u001b[0;34m\u001b[0m\u001b[0m\n\u001b[1;32m     13\u001b[0m                 \u001b[0;32mpass\u001b[0m\u001b[0;34m\u001b[0m\u001b[0m\n",
      "\u001b[0;31mTypeError\u001b[0m: 'Sequential' object is not subscriptable"
     ]
    }
   ],
   "source": [
    "vectorized_inputs = tokenize_and_vectorize(dataset)\n",
    "labels = collect_labels(dataset)"
   ]
  },
  {
   "cell_type": "code",
   "execution_count": 295,
   "metadata": {},
   "outputs": [
    {
     "data": {
      "text/plain": [
       "512"
      ]
     },
     "execution_count": 295,
     "metadata": {},
     "output_type": "execute_result"
    }
   ],
   "source": [
    "len(vectorized_inputs[0])"
   ]
  },
  {
   "cell_type": "code",
   "execution_count": 296,
   "metadata": {},
   "outputs": [
    {
     "data": {
      "text/plain": [
       "7367"
      ]
     },
     "execution_count": 296,
     "metadata": {},
     "output_type": "execute_result"
    }
   ],
   "source": [
    "len(vectorized_inputs)"
   ]
  },
  {
   "cell_type": "code",
   "execution_count": 297,
   "metadata": {},
   "outputs": [
    {
     "data": {
      "text/plain": [
       "300"
      ]
     },
     "execution_count": 297,
     "metadata": {},
     "output_type": "execute_result"
    }
   ],
   "source": [
    "len(vectorized_inputs[0][0])"
   ]
  },
  {
   "cell_type": "code",
   "execution_count": 298,
   "metadata": {},
   "outputs": [
    {
     "data": {
      "text/plain": [
       "7367"
      ]
     },
     "execution_count": 298,
     "metadata": {},
     "output_type": "execute_result"
    }
   ],
   "source": [
    "len(labels)"
   ]
  },
  {
   "cell_type": "code",
   "execution_count": 299,
   "metadata": {},
   "outputs": [],
   "source": [
    "split_data = int(len(vectorized_inputs)* 0.8)\n",
    "\n",
    "x_train = vectorized_inputs[:split_data]\n",
    "x_test = vectorized_inputs[split_data:]\n",
    "y_train= labels[:split_data]\n",
    "y_test = labels[split_data:]"
   ]
  },
  {
   "cell_type": "code",
   "execution_count": 300,
   "metadata": {},
   "outputs": [
    {
     "name": "stdout",
     "output_type": "stream",
     "text": [
      "5760\n"
     ]
    }
   ],
   "source": [
    "max = 0\n",
    "\n",
    "for elem in vectorized_inputs:\n",
    "    if len(elem) > max:\n",
    "        max = len(elem)\n",
    "        \n",
    "print(max)"
   ]
  },
  {
   "cell_type": "code",
   "execution_count": 336,
   "metadata": {},
   "outputs": [],
   "source": [
    "max_len = 512\n",
    "batch_size = 32\n",
    "embedding_dims = 300\n",
    "filters = 256\n",
    "kernel_size = 3\n",
    "hidden_dims = 256\n",
    "epochs = 10"
   ]
  },
  {
   "cell_type": "code",
   "execution_count": 302,
   "metadata": {},
   "outputs": [],
   "source": [
    "from tqdm import tqdm\n",
    "\n",
    "def pad_or_truncate_inputs(data, max_len):\n",
    "    new_data = []\n",
    "    pad_vec = []\n",
    "    for _ in range(len(data[0][0])):\n",
    "        pad_vec.append(0.0)\n",
    "        \n",
    "    print('len of pad_vec:', len(pad_vec))\n",
    "        \n",
    "    for sample in tqdm(data):\n",
    "        if len(sample) >= max_len:\n",
    "            tmp = sample[:max_len]\n",
    "        else:\n",
    "            tmp = sample\n",
    "            num_of_pad_vecs_needed = max_len - len(sample)\n",
    "            for _ in range(num_of_pad_vecs_needed):\n",
    "                tmp.append(pad_vec)\n",
    "                \n",
    "        new_data.append(tmp)\n",
    "        \n",
    "    return new_data"
   ]
  },
  {
   "cell_type": "code",
   "execution_count": 303,
   "metadata": {},
   "outputs": [
    {
     "name": "stderr",
     "output_type": "stream",
     "text": [
      "100%|██████████| 5893/5893 [00:00<00:00, 32525.96it/s]\n",
      "100%|██████████| 1474/1474 [00:00<00:00, 66071.09it/s]"
     ]
    },
    {
     "name": "stdout",
     "output_type": "stream",
     "text": [
      "len of pad_vec: 300\n",
      "len of pad_vec: 300\n"
     ]
    },
    {
     "name": "stderr",
     "output_type": "stream",
     "text": [
      "\n"
     ]
    }
   ],
   "source": [
    "import numpy as np\n",
    "\n",
    "x_train = pad_or_truncate_inputs(x_train, max_len)\n",
    "x_test = pad_or_truncate_inputs(x_test, max_len)\n",
    "x_train = np.reshape(x_train, (len(x_train), max_len, embedding_dims))\n",
    "x_test = np.reshape(x_test, (len(x_test), max_len, embedding_dims))"
   ]
  },
  {
   "cell_type": "code",
   "execution_count": 304,
   "metadata": {},
   "outputs": [],
   "source": [
    "from keras.utils.np_utils import to_categorical\n",
    "\n",
    "y_train = np.array(y_train)\n",
    "y_test = np.array(y_test)\n",
    "y_train = to_categorical(y_train.astype('int32'), 9)\n",
    "y_test = to_categorical(y_test.astype('int32'), 9)"
   ]
  },
  {
   "cell_type": "code",
   "execution_count": 305,
   "metadata": {},
   "outputs": [
    {
     "data": {
      "text/plain": [
       "(5893, 9)"
      ]
     },
     "execution_count": 305,
     "metadata": {},
     "output_type": "execute_result"
    }
   ],
   "source": [
    "y_train.shape"
   ]
  },
  {
   "cell_type": "code",
   "execution_count": 306,
   "metadata": {},
   "outputs": [
    {
     "data": {
      "text/plain": [
       "(1474, 9)"
      ]
     },
     "execution_count": 306,
     "metadata": {},
     "output_type": "execute_result"
    }
   ],
   "source": [
    "y_test.shape"
   ]
  },
  {
   "cell_type": "code",
   "execution_count": 337,
   "metadata": {},
   "outputs": [],
   "source": [
    "from keras.models import Sequential\n",
    "from keras.layers import Dense, Dropout, Conv1D, GlobalMaxPooling1D\n",
    "\n",
    "model = Sequential()\n",
    "model.add(Conv1D(filters,\n",
    "                kernel_size,\n",
    "                padding='valid',\n",
    "                activation='relu',\n",
    "                strides=1,\n",
    "                input_shape=(max_len, embedding_dims)\n",
    "                ))\n",
    "model.add(GlobalMaxPooling1D())\n",
    "model.add(Dense(hidden_dims, \n",
    "                activation='relu'\n",
    "               ))\n",
    "model.add(Dropout(0.5))\n",
    "model.add(Dense(9, activation='softmax'))"
   ]
  },
  {
   "cell_type": "code",
   "execution_count": 338,
   "metadata": {},
   "outputs": [
    {
     "name": "stdout",
     "output_type": "stream",
     "text": [
      "_________________________________________________________________\n",
      "Layer (type)                 Output Shape              Param #   \n",
      "=================================================================\n",
      "conv1d_13 (Conv1D)           (None, 510, 256)          230656    \n",
      "_________________________________________________________________\n",
      "global_max_pooling1d_13 (Glo (None, 256)               0         \n",
      "_________________________________________________________________\n",
      "dense_25 (Dense)             (None, 256)               65792     \n",
      "_________________________________________________________________\n",
      "dropout_7 (Dropout)          (None, 256)               0         \n",
      "_________________________________________________________________\n",
      "dense_26 (Dense)             (None, 9)                 2313      \n",
      "=================================================================\n",
      "Total params: 298,761\n",
      "Trainable params: 298,761\n",
      "Non-trainable params: 0\n",
      "_________________________________________________________________\n"
     ]
    }
   ],
   "source": [
    "model.summary()"
   ]
  },
  {
   "cell_type": "code",
   "execution_count": 339,
   "metadata": {},
   "outputs": [],
   "source": [
    "from keras.optimizers import Adam\n",
    "\n",
    "model.compile(loss='categorical_crossentropy',\n",
    "             optimizer=Adam(),\n",
    "             metrics=['accuracy'])"
   ]
  },
  {
   "cell_type": "code",
   "execution_count": 340,
   "metadata": {},
   "outputs": [
    {
     "name": "stdout",
     "output_type": "stream",
     "text": [
      "Train on 5893 samples, validate on 1474 samples\n",
      "Epoch 1/10\n",
      "5893/5893 [==============================] - 5s 785us/step - loss: 0.9879 - acc: 0.6744 - val_loss: 0.3465 - val_acc: 0.8908\n",
      "Epoch 2/10\n",
      "5893/5893 [==============================] - 3s 575us/step - loss: 0.2978 - acc: 0.9116 - val_loss: 0.2280 - val_acc: 0.9274\n",
      "Epoch 3/10\n",
      "5893/5893 [==============================] - 3s 578us/step - loss: 0.1536 - acc: 0.9549 - val_loss: 0.1761 - val_acc: 0.9457\n",
      "Epoch 4/10\n",
      "5893/5893 [==============================] - 3s 577us/step - loss: 0.0821 - acc: 0.9764 - val_loss: 0.1516 - val_acc: 0.9484\n",
      "Epoch 5/10\n",
      "5893/5893 [==============================] - 3s 580us/step - loss: 0.0420 - acc: 0.9908 - val_loss: 0.1824 - val_acc: 0.9464\n",
      "Epoch 6/10\n",
      "5893/5893 [==============================] - 3s 573us/step - loss: 0.0265 - acc: 0.9937 - val_loss: 0.1569 - val_acc: 0.9518\n",
      "Epoch 7/10\n",
      "5893/5893 [==============================] - 3s 578us/step - loss: 0.0168 - acc: 0.9958 - val_loss: 0.1722 - val_acc: 0.9512\n",
      "Epoch 8/10\n",
      "5893/5893 [==============================] - 3s 575us/step - loss: 0.0131 - acc: 0.9976 - val_loss: 0.1776 - val_acc: 0.9552\n",
      "Epoch 9/10\n",
      "5893/5893 [==============================] - 3s 577us/step - loss: 0.0094 - acc: 0.9985 - val_loss: 0.1850 - val_acc: 0.9491\n",
      "Epoch 10/10\n",
      "5893/5893 [==============================] - 3s 575us/step - loss: 0.0066 - acc: 0.9990 - val_loss: 0.1642 - val_acc: 0.9593\n"
     ]
    }
   ],
   "source": [
    "hist = model.fit(x_train,\n",
    "                 y_train,\n",
    "                batch_size=batch_size,\n",
    "                epochs=epochs,\n",
    "                validation_data=(x_test, y_test))"
   ]
  },
  {
   "cell_type": "code",
   "execution_count": 341,
   "metadata": {},
   "outputs": [
    {
     "data": {
      "image/png": "[encoded data removed]",
      "text/plain": [
       "<Figure size 432x288 with 1 Axes>"
      ]
     },
     "metadata": {
      "needs_background": "light"
     },
     "output_type": "display_data"
    }
   ],
   "source": [
    "import matplotlib.pyplot as plt\n",
    "%matplotlib inline\n",
    "\n",
    "plt.plot(hist.history['acc'])\n",
    "plt.plot(hist.history['val_acc'])\n",
    "plt.title('CNN Classifier Acc')\n",
    "plt.legend(['train', 'test'], loc='lower right')\n",
    "plt.show()"
   ]
  },
  {
   "cell_type": "code",
   "execution_count": 342,
   "metadata": {},
   "outputs": [
    {
     "data": {
      "image/png": "[encoded data removed]",
      "text/plain": [
       "<Figure size 432x288 with 1 Axes>"
      ]
     },
     "metadata": {
      "needs_background": "light"
     },
     "output_type": "display_data"
    }
   ],
   "source": [
    "plt.plot(hist.history['loss'])\n",
    "plt.plot(hist.history['val_loss'])\n",
    "plt.title('CNN Classifier Loss')\n",
    "plt.legend(['train', 'loss'], loc='upper right')\n",
    "plt.show()"
   ]
  },
  {
   "cell_type": "code",
   "execution_count": 350,
   "metadata": {},
   "outputs": [
    {
     "name": "stdout",
     "output_type": "stream",
     "text": [
      "shape of pred_values: (1474,)\n",
      "shape of y_test: [0 2 2 ... 1 4 7]\n"
     ]
    }
   ],
   "source": [
    "pred_values_orig = model.predict(x_test)\n",
    "pred_values = np.argmax(pred_values_orig, axis=1)\n",
    "print('shape of pred_values:', pred_values.shape)\n",
    "\n",
    "y_test = np.argmax(y_test, axis=1)\n",
    "print('shape of y_test:', y_test.shape)"
   ]
  },
  {
   "cell_type": "code",
   "execution_count": 357,
   "metadata": {},
   "outputs": [
    {
     "name": "stdout",
     "output_type": "stream",
     "text": [
      "【labels】0:\n",
      "              precision    recall  f1-score   support\n",
      "\n",
      "           0      0.932     0.937     0.934       175\n",
      "           1      0.945     1.000     0.972       154\n",
      "           2      1.000     0.964     0.982       167\n",
      "           3      0.931     0.825     0.874       114\n",
      "           4      0.930     1.000     0.964       174\n",
      "           5      0.944     0.908     0.925       184\n",
      "           6      0.979     0.989     0.984       186\n",
      "           7      0.982     1.000     0.991       163\n",
      "           8      0.987     0.975     0.981       157\n",
      "\n",
      "   micro avg      0.959     0.959     0.959      1474\n",
      "   macro avg      0.959     0.955     0.956      1474\n",
      "weighted avg      0.959     0.959     0.959      1474\n",
      "\n"
     ]
    }
   ],
   "source": [
    "from sklearn.metrics import classification_report, confusion_matrix\n",
    "\n",
    "result = classification_report(y_test, pred_values, digits=3)\n",
    "\n",
    "print('【labels】0:')\n",
    "print(result)"
   ]
  },
  {
   "cell_type": "code",
   "execution_count": 352,
   "metadata": {},
   "outputs": [
    {
     "data": {
      "text/plain": [
       "array([[164,   0,   0,   4,   2,   4,   0,   0,   1],\n",
       "       [  0, 154,   0,   0,   0,   0,   0,   0,   0],\n",
       "       [  0,   1, 161,   1,   1,   2,   1,   0,   0],\n",
       "       [  2,   5,   0,  94,   6,   4,   1,   1,   1],\n",
       "       [  0,   0,   0,   0, 174,   0,   0,   0,   0],\n",
       "       [  9,   1,   0,   1,   4, 167,   1,   1,   0],\n",
       "       [  0,   2,   0,   0,   0,   0, 184,   0,   0],\n",
       "       [  0,   0,   0,   0,   0,   0,   0, 163,   0],\n",
       "       [  1,   0,   0,   1,   0,   0,   1,   1, 153]])"
      ]
     },
     "execution_count": 352,
     "metadata": {},
     "output_type": "execute_result"
    }
   ],
   "source": [
    "confusion_matrix(y_test, pred_values)"
   ]
  },
  {
   "cell_type": "code",
   "execution_count": 349,
   "metadata": {},
   "outputs": [
    {
     "data": {
      "text/plain": [
       "(1474, 9)"
      ]
     },
     "execution_count": 349,
     "metadata": {},
     "output_type": "execute_result"
    }
   ],
   "source": []
  },
  {
   "cell_type": "code",
   "execution_count": null,
   "metadata": {},
   "outputs": [],
   "source": []
  }
 ],
 "metadata": {
  "kernelspec": {
   "display_name": "Python 3",
   "language": "python",
   "name": "python3"
  },
  "language_info": {
   "codemirror_mode": {
    "name": "ipython",
    "version": 3
   },
   "file_extension": ".py",
   "mimetype": "text/x-python",
   "name": "python",
   "nbconvert_exporter": "python",
   "pygments_lexer": "ipython3",
   "version": "3.5.2"
  }
 },
 "nbformat": 4,
 "nbformat_minor": 2
}
