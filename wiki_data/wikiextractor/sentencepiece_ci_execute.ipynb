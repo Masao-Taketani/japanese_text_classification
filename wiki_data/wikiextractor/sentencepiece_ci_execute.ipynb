{
 "cells": [
  {
   "cell_type": "markdown",
   "metadata": {},
   "source": [
    "## I referred to \"https://applingo.tokyo/article/1252\""
   ]
  },
  {
   "cell_type": "code",
   "execution_count": null,
   "metadata": {},
   "outputs": [],
   "source": [
    "!python WikiExtractor.py jawiki-latest-pages-articles.xml"
   ]
  },
  {
   "cell_type": "markdown",
   "metadata": {},
   "source": [
    "## <font color=\"Red\">**※**</font>If some error regarding to \"unicodedecodeerror\" occurs, try to look the page \"https://github.com/attardi/wikiextractor/issues/89\"."
   ]
  },
  {
   "cell_type": "code",
   "execution_count": null,
   "metadata": {},
   "outputs": [],
   "source": [
    "!find text/ | grep wiki | awk '{system(\"cat \"$0\" >> wiki.txt\")}'"
   ]
  },
  {
   "cell_type": "code",
   "execution_count": 1,
   "metadata": {},
   "outputs": [
    {
     "name": "stdout",
     "output_type": "stream",
     "text": [
      "  25325145 2904576598 wiki.txt\r\n"
     ]
    }
   ],
   "source": [
    "!wc -ml wiki.txt"
   ]
  },
  {
   "cell_type": "code",
   "execution_count": 3,
   "metadata": {},
   "outputs": [],
   "source": [
    "!cat wiki.txt | sed '/^<[^>]*>$/d' > wiki_removed_doc_tag.txt"
   ]
  },
  {
   "cell_type": "code",
   "execution_count": 4,
   "metadata": {},
   "outputs": [
    {
     "data": {
      "text/plain": [
       "True"
      ]
     },
     "execution_count": 4,
     "metadata": {},
     "output_type": "execute_result"
    }
   ],
   "source": [
    "import sentencepiece as spm\n",
    "spm.SentencePieceTrainer.Train('--input=wiki_removed_doc_tag.txt, --model_prefix=spm --vocab_size=8000')"
   ]
  },
  {
   "cell_type": "code",
   "execution_count": 5,
   "metadata": {},
   "outputs": [
    {
     "name": "stdout",
     "output_type": "stream",
     "text": [
      "['▁', 'こ', 'ん', 'に', 'ち', 'は', '。', '今日', 'は', '比較的', '涼', 'しい', '日', 'で', 'す', 'ね', '。']\n"
     ]
    }
   ],
   "source": [
    "sp = spm.SentencePieceProcessor()\n",
    "sp.Load(\"spm.model\")\n",
    "print(sp.EncodeAsPieces(\"こんにちは。今日は比較的涼しい日ですね。\"))"
   ]
  },
  {
   "cell_type": "code",
   "execution_count": 8,
   "metadata": {},
   "outputs": [
    {
     "name": "stdout",
     "output_type": "stream",
     "text": [
      "['▁', '中国', '地方', 'には', '広島', 'という', '県', 'があり', '、', '私', 'は', 'そこ', 'の', '出身', 'である', '。']\n"
     ]
    }
   ],
   "source": [
    "print(sp.EncodeAsPieces(\"中国地方には広島という県があり、私はそこの出身である。\"))"
   ]
  },
  {
   "cell_type": "code",
   "execution_count": null,
   "metadata": {},
   "outputs": [],
   "source": []
  }
 ],
 "metadata": {
  "kernelspec": {
   "display_name": "Python 3",
   "language": "python",
   "name": "python3"
  },
  "language_info": {
   "codemirror_mode": {
    "name": "ipython",
    "version": 3
   },
   "file_extension": ".py",
   "mimetype": "text/x-python",
   "name": "python",
   "nbconvert_exporter": "python",
   "pygments_lexer": "ipython3",
   "version": "3.5.2"
  }
 },
 "nbformat": 4,
 "nbformat_minor": 2
}
