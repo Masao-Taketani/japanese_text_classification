{
 "cells": [
  {
   "cell_type": "code",
   "execution_count": 2,
   "metadata": {},
   "outputs": [],
   "source": [
    "import glob\n",
    "import os\n",
    "from random import shuffle\n",
    "import random\n",
    "import configparser\n",
    "\n",
    "def pre_process_data(filepath):\n",
    "    dataset = []\n",
    "    dirs = []\n",
    "    \n",
    "    for dir in os.listdir(filepath):\n",
    "        if os.path.isdir(filepath + dir):\n",
    "            dirs.append(filepath + dir)\n",
    "            \n",
    "    for i, dir_path in enumerate(dirs):\n",
    "        dir_name = dir_path.split('/')[-1]\n",
    "        print('dir_name: {}'.format(dir_name))\n",
    "        \n",
    "        for filename in glob.glob(os.path.join(filepath, dir_name, dir_name + \"*.txt\")):\n",
    "            with open(filename, 'r' ,encoding=\"utf-8\") as f:\n",
    "                #skip the first 2 rows form each text\n",
    "                input_text_list = f.read().split(\"\\n\")[2:]\n",
    "                input_text = \"\\n\".join(input_text_list)\n",
    "                #datasets hold sets of tuples such as (input text, label)\n",
    "                dataset.append((input_text, dir_name))\n",
    "                \n",
    "    random.seed(1234)            \n",
    "    shuffle(dataset)\n",
    "    \n",
    "    return dataset"
   ]
  },
  {
   "cell_type": "code",
   "execution_count": 3,
   "metadata": {},
   "outputs": [
    {
     "name": "stdout",
     "output_type": "stream",
     "text": [
      "dir_name: dokujo-tsushin\n",
      "dir_name: it-life-hack\n",
      "dir_name: kaden-channel\n",
      "dir_name: livedoor-homme\n",
      "dir_name: movie-enter\n",
      "dir_name: peachy\n",
      "dir_name: smax\n",
      "dir_name: sports-watch\n",
      "dir_name: topic-news\n"
     ]
    },
    {
     "data": {
      "text/plain": [
       "('「もう仮病使えよ」香川、長友ら招集に  \\n14日、日本サッカー協会は29日に行なわれるW杯アジア3次予選・ウズベキスタン戦に向けて香川真司(ドルトムント/ドイツ)、長友佑都(インテル/イタリア)ら海外組14人の招集を求め、所属クラブに協力を要請する文書を送付したと発表した。負傷中の本田圭佑(CSKAモスクワ/ロシア)は含まれないものの、所属クラブへの完全移籍が見送られた宇佐美貴史(バイエルン/ドイツ)、移籍したばかりの家長昭博(蔚山現代/韓国)らの名前もあるという。\\n\\n しかし、日本はすでに最終予選進出を決めており、この試合は形としては消化試合となる。海外組を含めたフルメンバーを投入する意図は「試合間隔をあけすぎないこと」などが予想されるが、特に海外で好調を維持する香川、長友の招集にはサッカーファンからさまざまな反応が出た。\\n\\n 「新戦力発掘しないでどうすんだよ」「宇佐美は五輪のほうに呼べよ」「ジーコ解任デモやった奴、出番だぞ」「もう仮病使えよ」「ドルトムントは招集文書破り捨ててOK」といった、海外組の招集に反対する声が高まった一方で、「ここで呼ばなきゃ、6月の最終予選にぶっつけ本番だぞ」「海外組がいるのといないのとじゃスポンサー料が全然違うからな」「いやこれくらいこなせるだろwお前ら過保護w」といった意見も散見された。\\n\\n■関連リンク\\n・香川真司の得点で勝利。チームも香川も好調を維持。\\u3000【ボルシア・ドルトムントｖｓレヴァークーゼン】\\n・伊紙、長友の必要性を力説し指揮官を酷評「早く起用すべきだった」\\n・【加部究コラム】プロの充実がなければ未来は暗い\\n',\n",
       " 'sports-watch')"
      ]
     },
     "execution_count": 3,
     "metadata": {},
     "output_type": "execute_result"
    }
   ],
   "source": [
    "path = \"../../../livedoor_data/text/\"\n",
    "\n",
    "dataset = pre_process_data(path)\n",
    "dataset[0]"
   ]
  },
  {
   "cell_type": "code",
   "execution_count": 4,
   "metadata": {},
   "outputs": [
    {
     "data": {
      "text/plain": [
       "7367"
      ]
     },
     "execution_count": 4,
     "metadata": {},
     "output_type": "execute_result"
    }
   ],
   "source": [
    "len(dataset)"
   ]
  },
  {
   "cell_type": "code",
   "execution_count": 5,
   "metadata": {},
   "outputs": [
    {
     "data": {
      "text/plain": [
       "(5893, 1474)"
      ]
     },
     "execution_count": 5,
     "metadata": {},
     "output_type": "execute_result"
    }
   ],
   "source": [
    "split_data = int(len(dataset) * 0.8)\n",
    "train = dataset[:split_data]\n",
    "test = dataset[split_data:]\n",
    "\n",
    "len(train), len(test)"
   ]
  },
  {
   "cell_type": "code",
   "execution_count": 11,
   "metadata": {},
   "outputs": [
    {
     "name": "stdout",
     "output_type": "stream",
     "text": [
      "train.tsv is created!\n"
     ]
    }
   ],
   "source": [
    "CURDIR = os.getcwd()\n",
    "CONFIGPATH = os.path.join(CURDIR, os.pardir, 'config.ini')\n",
    "config = configparser.ConfigParser()\n",
    "config.read(CONFIGPATH)\n",
    "\n",
    "#OUTPUT_DIR = config[\"FINETUNING-DATA\"][\"TEXTDIR\"]\n",
    "OUTPUT_DIR = \"../data/livedoor/\"\n",
    "\n",
    "train_tsv = \"input\" + \"\\t\" + \"label\" + \"\\n\"\n",
    "for tup in train:\n",
    "    train_tsv += tup[0] + \"\\t\" + tup[1] + \"\\n\"\n",
    "    \n",
    "with open(OUTPUT_DIR + \"train.tsv\", \"w\", encoding=\"utf-8\") as f:\n",
    "    f.write(train_tsv)\n",
    "print(\"train.tsv is created!\")"
   ]
  },
  {
   "cell_type": "code",
   "execution_count": null,
   "metadata": {},
   "outputs": [],
   "source": []
  }
 ],
 "metadata": {
  "kernelspec": {
   "display_name": "Python 3",
   "language": "python",
   "name": "python3"
  },
  "language_info": {
   "codemirror_mode": {
    "name": "ipython",
    "version": 3
   },
   "file_extension": ".py",
   "mimetype": "text/x-python",
   "name": "python",
   "nbconvert_exporter": "python",
   "pygments_lexer": "ipython3",
   "version": "3.5.2"
  }
 },
 "nbformat": 4,
 "nbformat_minor": 2
}
